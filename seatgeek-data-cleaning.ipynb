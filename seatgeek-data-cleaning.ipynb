{
 "cells": [
  {
   "cell_type": "markdown",
   "metadata": {},
   "source": [
    "## Project Description\n",
    "Cleaning concert data from SeatGeek that were previously extracted using a data pipeline. We will use pandas to examine what data is available and missing, tidy up formats, and deal with missing values. This dataset may be used in several projects including but not limited to creating interactive dashboards showing upcoming events for someone trying to sell their tickets or see what events are available and k-means clustering to group the concerts by category. I'm curious to find out what unsupervised learning will discover!"
   ]
  },
  {
   "cell_type": "markdown",
   "metadata": {},
   "source": [
    "## Introduction\n",
    "As I go over my projects from the past, I realize that they are so messy. I revisit this particular project to go over the data cleaning. I want to have multiple purposes for this data. 1) for an interactive dashboard and 2) machine learning if possible. Super ambitious, unrealistic at times, dreaming and not expecting how much work it actually takes to finish something ambitious."
   ]
  },
  {
   "cell_type": "markdown",
   "metadata": {},
   "source": [
    "## Load libraries and dataset"
   ]
  },
  {
   "cell_type": "code",
   "execution_count": 1,
   "metadata": {
    "scrolled": true
   },
   "outputs": [],
   "source": [
    "import pandas as pd\n",
    "import numpy as np\n",
    "import matplotlib.pyplot as plt\n",
    "import json"
   ]
  },
  {
   "cell_type": "code",
   "execution_count": 2,
   "metadata": {
    "scrolled": true
   },
   "outputs": [],
   "source": [
    "# Loading json files into dataframes\n",
    "df = pd.read_json('ny-concerts.json')"
   ]
  },
  {
   "cell_type": "markdown",
   "metadata": {},
   "source": [
    "## Data Mining"
   ]
  },
  {
   "cell_type": "markdown",
   "metadata": {},
   "source": [
    "### Taking stock of what data I have and don't have"
   ]
  },
  {
   "cell_type": "code",
   "execution_count": 3,
   "metadata": {},
   "outputs": [],
   "source": [
    "# Check Shape\n",
    "df.shape # 2779 rows and 19 columns\n",
    "\n",
    "# Check missing Values\n",
    "df = df.replace('', np.nan) # performer_genre missing was set to '' in last project\n",
    "df.isna().sum() # 982 tickets missing pricing info / 725 missing performer genres\n",
    "None"
   ]
  },
  {
   "cell_type": "markdown",
   "metadata": {},
   "source": [
    "Though I have quite a few missing information I'm going to leave them in for now."
   ]
  },
  {
   "cell_type": "code",
   "execution_count": 4,
   "metadata": {},
   "outputs": [],
   "source": [
    "#Drop null value rows (1064)\n",
    "# c_df.dropna(axis = 0, subset=['average_price'], inplace=True)"
   ]
  },
  {
   "cell_type": "markdown",
   "metadata": {},
   "source": [
    "# Dates"
   ]
  },
  {
   "cell_type": "markdown",
   "metadata": {},
   "source": [
    "#### Convert String Date Columns into DateTime Objects"
   ]
  },
  {
   "cell_type": "code",
   "execution_count": 5,
   "metadata": {},
   "outputs": [],
   "source": [
    "# Check current datatype of value date columns\n",
    "type(df['announce_date'][0]) # str data type\n",
    "\n",
    "# `df.columns` to list out all columns to find remaining date columns\n",
    "df.columns\n",
    "date_columns = ['announce_date', 'date&time_event', 'visible_until_utc']\n",
    "\n",
    "# Change all date_columns to datetime format using a loop\n",
    "for i in date_columns:\n",
    "    df[i] = pd.to_datetime(df[i])\n",
    "    \n",
    "type(df['announce_date'][0]) # pandas._libs.tslibs.timestamps.Timestamp\n",
    "None"
   ]
  },
  {
   "cell_type": "markdown",
   "metadata": {},
   "source": [
    "## Performer Data"
   ]
  },
  {
   "cell_type": "markdown",
   "metadata": {},
   "source": [
    "I actually have plenty of data to work if I cut out all "
   ]
  },
  {
   "cell_type": "code",
   "execution_count": 6,
   "metadata": {},
   "outputs": [
    {
     "data": {
      "text/plain": [
       "array([nan, 'Electronic', 'Blues', 'Rock', 'Pop', 'Country',\n",
       "       'Alternative', 'Hip-Hop', 'Reggae', 'Soul', 'Hard Rock', 'Latin',\n",
       "       'Folk', 'Indie', 'Rnb'], dtype=object)"
      ]
     },
     "execution_count": 6,
     "metadata": {},
     "output_type": "execute_result"
    }
   ],
   "source": [
    "df[df['type_event'].str.contains('concert')] # I'm going to drop this column as all have it\n",
    "df.performer_genre.unique()"
   ]
  },
  {
   "cell_type": "code",
   "execution_count": 23,
   "metadata": {},
   "outputs": [
    {
     "data": {
      "text/plain": [
       "1        Electronic\n",
       "2             Blues\n",
       "5              Rock\n",
       "6               Pop\n",
       "10          Country\n",
       "12      Alternative\n",
       "13              Pop\n",
       "16             Rock\n",
       "18          Hip-Hop\n",
       "19      Alternative\n",
       "24      Alternative\n",
       "25            Blues\n",
       "27              Pop\n",
       "28             Rock\n",
       "29              Pop\n",
       "30              Pop\n",
       "34              Pop\n",
       "35          Hip-Hop\n",
       "38             Rock\n",
       "40             Rock\n",
       "42              Pop\n",
       "55       Electronic\n",
       "58              Pop\n",
       "61       Electronic\n",
       "62       Electronic\n",
       "63             Rock\n",
       "64              Pop\n",
       "66              Pop\n",
       "67              Pop\n",
       "73             Rock\n",
       "           ...     \n",
       "2748            Pop\n",
       "2749           Soul\n",
       "2750           Rock\n",
       "2751           Soul\n",
       "2752            Pop\n",
       "2753            Pop\n",
       "2754            Pop\n",
       "2755    Alternative\n",
       "2756          Blues\n",
       "2757          Blues\n",
       "2758           Soul\n",
       "2759           Soul\n",
       "2760            Pop\n",
       "2761            Pop\n",
       "2762          Blues\n",
       "2763          Blues\n",
       "2764            Pop\n",
       "2765            Pop\n",
       "2766            Pop\n",
       "2767           Soul\n",
       "2768        Country\n",
       "2769    Alternative\n",
       "2770           Soul\n",
       "2771            Pop\n",
       "2772            Pop\n",
       "2773        Country\n",
       "2774           Soul\n",
       "2775           Rock\n",
       "2776           Soul\n",
       "2777            Pop\n",
       "Name: performer_genre, Length: 2054, dtype: object"
      ]
     },
     "execution_count": 23,
     "metadata": {},
     "output_type": "execute_result"
    }
   ],
   "source": [
    "df.performer_genre.dropna()"
   ]
  },
  {
   "cell_type": "code",
   "execution_count": null,
   "metadata": {},
   "outputs": [],
   "source": []
  }
 ],
 "metadata": {
  "kernelspec": {
   "display_name": "Python 3",
   "language": "python",
   "name": "python3"
  },
  "language_info": {
   "codemirror_mode": {
    "name": "ipython",
    "version": 3
   },
   "file_extension": ".py",
   "mimetype": "text/x-python",
   "name": "python",
   "nbconvert_exporter": "python",
   "pygments_lexer": "ipython3",
   "version": "3.6.7"
  }
 },
 "nbformat": 4,
 "nbformat_minor": 2
}
