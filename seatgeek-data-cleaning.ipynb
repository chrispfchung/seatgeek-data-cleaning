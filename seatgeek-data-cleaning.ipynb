{
 "cells": [
  {
   "cell_type": "markdown",
   "metadata": {},
   "source": [
    "# Dove into SeatGeek New York Concert Dataset to Clean Data for Future Visualization and Analysis"
   ]
  },
  {
   "cell_type": "markdown",
   "metadata": {},
   "source": [
    "## Project Description\n",
    "Cleaning concert data from SeatGeek that were previously extracted using a data pipeline in my previous project. We will use pandas to examine what data is available, deal with missing values and tidy up formatting. This dataset may be used in several projects including but not limited to creating interactive dashboards showing upcoming events for someone trying to sell their tickets or see what events are available and k-means clustering to group the concerts by category. I'm curious to find out what unsupervised learning will discover!"
   ]
  },
  {
   "cell_type": "markdown",
   "metadata": {},
   "source": [
    "## Introduction\n",
    "It's a cliché that data cleaning takes 85% or so of a data scientists time. In this project, \"I want to have multiple purposes for this data. 1) for an interactive dashboard and 2) machine learning if possible. I can get super ambitious, unrealistic at times, but would love to eventually see this dataset come to life!"
   ]
  },
  {
   "cell_type": "markdown",
   "metadata": {},
   "source": [
    "## Load Libraries and Dataset"
   ]
  },
  {
   "cell_type": "code",
   "execution_count": 1,
   "metadata": {
    "scrolled": true
   },
   "outputs": [],
   "source": [
    "import pandas as pd\n",
    "import numpy as np\n",
    "import matplotlib.pyplot as plt\n",
    "import json"
   ]
  },
  {
   "cell_type": "code",
   "execution_count": 2,
   "metadata": {
    "scrolled": true
   },
   "outputs": [],
   "source": [
    "# Loading json files into dataframes. See Previous project where data came from\n",
    "df = pd.read_json('ny-concerts.json')"
   ]
  },
  {
   "cell_type": "markdown",
   "metadata": {},
   "source": [
    "## Missing Data"
   ]
  },
  {
   "cell_type": "code",
   "execution_count": 3,
   "metadata": {},
   "outputs": [
    {
     "data": {
      "text/plain": [
       "announce_date             0\n",
       "average_price           982\n",
       "date&time_event           0\n",
       "event_title               0\n",
       "highest_price           982\n",
       "lowest_price            982\n",
       "median_price            982\n",
       "performer_genre         725\n",
       "performer_name            0\n",
       "ticket_listing_count    982\n",
       "type_event                0\n",
       "upcoming_events?          0\n",
       "url                       0\n",
       "venue_capacity            0\n",
       "venue_city                0\n",
       "venue_name                0\n",
       "venue_score               0\n",
       "venue_zipcode             3\n",
       "visible_until_utc         0\n",
       "dtype: int64"
      ]
     },
     "execution_count": 3,
     "metadata": {},
     "output_type": "execute_result"
    }
   ],
   "source": [
    "# Check how much data we have\n",
    "df.shape # 2779 rows and 19 columns\n",
    "\n",
    "df = df.replace('', np.nan) # performer_genre missing was set to '' in last project\n",
    "df.isna().sum() # find out categories are missing data\n",
    "\n",
    "# 982 tickets missing price / 725 missing performer genres / 3 missing venue zipcodes"
   ]
  },
  {
   "cell_type": "markdown",
   "metadata": {},
   "source": [
    "With 2779 data points, my game plan is to keep as many rows as I can. It's a lot of data to lose if I remove them! <br><br>\n",
    "Let's try to see why the info is missing and maybe I can find a solution to fill them in starting with prices."
   ]
  },
  {
   "cell_type": "markdown",
   "metadata": {},
   "source": [
    "### Missing Prices"
   ]
  },
  {
   "cell_type": "markdown",
   "metadata": {},
   "source": [
    "I think there are 3 reasons why there is missing ticket price info.\n",
    "1. Ticket sales have ended\n",
    "2. Tickets are not on sale yet\n",
    "3. No one is selling their tickets"
   ]
  },
  {
   "cell_type": "code",
   "execution_count": 4,
   "metadata": {},
   "outputs": [
    {
     "data": {
      "text/html": [
       "<div>\n",
       "<style scoped>\n",
       "    .dataframe tbody tr th:only-of-type {\n",
       "        vertical-align: middle;\n",
       "    }\n",
       "\n",
       "    .dataframe tbody tr th {\n",
       "        vertical-align: top;\n",
       "    }\n",
       "\n",
       "    .dataframe thead th {\n",
       "        text-align: right;\n",
       "    }\n",
       "</style>\n",
       "<table border=\"1\" class=\"dataframe\">\n",
       "  <thead>\n",
       "    <tr style=\"text-align: right;\">\n",
       "      <th></th>\n",
       "      <th>announce_date</th>\n",
       "      <th>average_price</th>\n",
       "      <th>date&amp;time_event</th>\n",
       "      <th>event_title</th>\n",
       "      <th>highest_price</th>\n",
       "      <th>lowest_price</th>\n",
       "      <th>median_price</th>\n",
       "      <th>performer_genre</th>\n",
       "      <th>performer_name</th>\n",
       "      <th>ticket_listing_count</th>\n",
       "      <th>type_event</th>\n",
       "      <th>upcoming_events?</th>\n",
       "      <th>url</th>\n",
       "      <th>venue_capacity</th>\n",
       "      <th>venue_city</th>\n",
       "      <th>venue_name</th>\n",
       "      <th>venue_score</th>\n",
       "      <th>venue_zipcode</th>\n",
       "      <th>visible_until_utc</th>\n",
       "    </tr>\n",
       "  </thead>\n",
       "  <tbody>\n",
       "    <tr>\n",
       "      <th>1963</th>\n",
       "      <td>2019-07-24T00:00:00</td>\n",
       "      <td>NaN</td>\n",
       "      <td>2019-10-25T20:00:00</td>\n",
       "      <td>Nightfall</td>\n",
       "      <td>NaN</td>\n",
       "      <td>NaN</td>\n",
       "      <td>NaN</td>\n",
       "      <td>NaN</td>\n",
       "      <td>Nightfall</td>\n",
       "      <td>NaN</td>\n",
       "      <td>concert</td>\n",
       "      <td>True</td>\n",
       "      <td>https://seatgeek.com/nightfall-tickets/brookly...</td>\n",
       "      <td>0</td>\n",
       "      <td>Brooklyn</td>\n",
       "      <td>Green-Wood</td>\n",
       "      <td>0.000000</td>\n",
       "      <td>11232</td>\n",
       "      <td>2019-10-26T04:00:00</td>\n",
       "    </tr>\n",
       "    <tr>\n",
       "      <th>1251</th>\n",
       "      <td>2019-06-10T00:00:00</td>\n",
       "      <td>NaN</td>\n",
       "      <td>2019-09-25T20:00:00</td>\n",
       "      <td>AbbeyRoad50</td>\n",
       "      <td>NaN</td>\n",
       "      <td>NaN</td>\n",
       "      <td>NaN</td>\n",
       "      <td>NaN</td>\n",
       "      <td>AbbeyRoad50</td>\n",
       "      <td>NaN</td>\n",
       "      <td>concert</td>\n",
       "      <td>True</td>\n",
       "      <td>https://seatgeek.com/abbeyroad50-tickets/new-y...</td>\n",
       "      <td>0</td>\n",
       "      <td>New York</td>\n",
       "      <td>Rockwood Music Hall - Stage 2</td>\n",
       "      <td>0.000000</td>\n",
       "      <td>10002</td>\n",
       "      <td>2019-09-26T04:00:00</td>\n",
       "    </tr>\n",
       "    <tr>\n",
       "      <th>794</th>\n",
       "      <td>2019-07-24T00:00:00</td>\n",
       "      <td>NaN</td>\n",
       "      <td>2019-09-11T20:30:00</td>\n",
       "      <td>The Unlikely Candidates (18+)</td>\n",
       "      <td>NaN</td>\n",
       "      <td>NaN</td>\n",
       "      <td>NaN</td>\n",
       "      <td>Pop</td>\n",
       "      <td>The Unlikely Candidates</td>\n",
       "      <td>NaN</td>\n",
       "      <td>concert</td>\n",
       "      <td>True</td>\n",
       "      <td>https://seatgeek.com/the-unlikely-candidates-1...</td>\n",
       "      <td>250</td>\n",
       "      <td>Brooklyn</td>\n",
       "      <td>Rough Trade NYC</td>\n",
       "      <td>0.513713</td>\n",
       "      <td>11249</td>\n",
       "      <td>2019-09-12T04:30:00</td>\n",
       "    </tr>\n",
       "  </tbody>\n",
       "</table>\n",
       "</div>"
      ],
      "text/plain": [
       "            announce_date  average_price      date&time_event  \\\n",
       "1963  2019-07-24T00:00:00            NaN  2019-10-25T20:00:00   \n",
       "1251  2019-06-10T00:00:00            NaN  2019-09-25T20:00:00   \n",
       "794   2019-07-24T00:00:00            NaN  2019-09-11T20:30:00   \n",
       "\n",
       "                        event_title  highest_price  lowest_price  \\\n",
       "1963                      Nightfall            NaN           NaN   \n",
       "1251                    AbbeyRoad50            NaN           NaN   \n",
       "794   The Unlikely Candidates (18+)            NaN           NaN   \n",
       "\n",
       "      median_price performer_genre           performer_name  \\\n",
       "1963           NaN             NaN                Nightfall   \n",
       "1251           NaN             NaN              AbbeyRoad50   \n",
       "794            NaN             Pop  The Unlikely Candidates   \n",
       "\n",
       "      ticket_listing_count type_event  upcoming_events?  \\\n",
       "1963                   NaN    concert              True   \n",
       "1251                   NaN    concert              True   \n",
       "794                    NaN    concert              True   \n",
       "\n",
       "                                                    url  venue_capacity  \\\n",
       "1963  https://seatgeek.com/nightfall-tickets/brookly...               0   \n",
       "1251  https://seatgeek.com/abbeyroad50-tickets/new-y...               0   \n",
       "794   https://seatgeek.com/the-unlikely-candidates-1...             250   \n",
       "\n",
       "     venue_city                     venue_name  venue_score venue_zipcode  \\\n",
       "1963   Brooklyn                     Green-Wood     0.000000         11232   \n",
       "1251   New York  Rockwood Music Hall - Stage 2     0.000000         10002   \n",
       "794    Brooklyn                Rough Trade NYC     0.513713         11249   \n",
       "\n",
       "        visible_until_utc  \n",
       "1963  2019-10-26T04:00:00  \n",
       "1251  2019-09-26T04:00:00  \n",
       "794   2019-09-12T04:30:00  "
      ]
     },
     "execution_count": 4,
     "metadata": {},
     "output_type": "execute_result"
    }
   ],
   "source": [
    "df[df['average_price'].isna()].sample(3) # My reasons based on looking at 'date&time_event' column"
   ]
  },
  {
   "cell_type": "markdown",
   "metadata": {},
   "source": [
    "Upon further investigation getting a description of the data, I might want to use the median values of average_price and median_price columns because although it isn't the true value, it won't affect the distribution too much. Most of the data is between 25 and 189. There's also an outlier for $34003 in average_price so I'm curious what that is."
   ]
  },
  {
   "cell_type": "code",
   "execution_count": 5,
   "metadata": {},
   "outputs": [],
   "source": [
    "df.average_price.describe()\n",
    "None\n",
    "# number of priced tickets = 1797 out of 2779\n",
    "# lowest price = 25\n",
    "# highest price 340003\n",
    "# 25-75% of data is between 25 and 189"
   ]
  },
  {
   "cell_type": "markdown",
   "metadata": {},
   "source": [
    "*Let's investigate the events with ticket prices over 1000. I show only the first 5. Remove head() to see the rest.*<br>\n",
    "1. They consist mostly of Madonna concerts for different dates. The highest priced tickets soar over 20000. \n",
    "2. Some of the other concerts' average prices are under 100 yet the highest ticket is way over 1000. \n",
    "3. There's about 200 high priced events \n",
    "\n",
    "If I replaced the average_price and median_price of tickets with the median, I think they will fit right in."
   ]
  },
  {
   "cell_type": "code",
   "execution_count": 6,
   "metadata": {},
   "outputs": [
    {
     "data": {
      "text/html": [
       "<div>\n",
       "<style scoped>\n",
       "    .dataframe tbody tr th:only-of-type {\n",
       "        vertical-align: middle;\n",
       "    }\n",
       "\n",
       "    .dataframe tbody tr th {\n",
       "        vertical-align: top;\n",
       "    }\n",
       "\n",
       "    .dataframe thead th {\n",
       "        text-align: right;\n",
       "    }\n",
       "</style>\n",
       "<table border=\"1\" class=\"dataframe\">\n",
       "  <thead>\n",
       "    <tr style=\"text-align: right;\">\n",
       "      <th></th>\n",
       "      <th>announce_date</th>\n",
       "      <th>average_price</th>\n",
       "      <th>date&amp;time_event</th>\n",
       "      <th>event_title</th>\n",
       "      <th>highest_price</th>\n",
       "      <th>lowest_price</th>\n",
       "      <th>median_price</th>\n",
       "      <th>performer_genre</th>\n",
       "      <th>performer_name</th>\n",
       "      <th>ticket_listing_count</th>\n",
       "      <th>type_event</th>\n",
       "      <th>upcoming_events?</th>\n",
       "      <th>url</th>\n",
       "      <th>venue_capacity</th>\n",
       "      <th>venue_city</th>\n",
       "      <th>venue_name</th>\n",
       "      <th>venue_score</th>\n",
       "      <th>venue_zipcode</th>\n",
       "      <th>visible_until_utc</th>\n",
       "    </tr>\n",
       "  </thead>\n",
       "  <tbody>\n",
       "    <tr>\n",
       "      <th>30</th>\n",
       "      <td>2019-05-30T00:00:00</td>\n",
       "      <td>294.0</td>\n",
       "      <td>2019-08-16T20:00:00</td>\n",
       "      <td>Pink</td>\n",
       "      <td>1889.0</td>\n",
       "      <td>79.0</td>\n",
       "      <td>250.0</td>\n",
       "      <td>Pop</td>\n",
       "      <td>Pink</td>\n",
       "      <td>564.0</td>\n",
       "      <td>concert</td>\n",
       "      <td>True</td>\n",
       "      <td>https://seatgeek.com/pink-tickets/uniondale-ne...</td>\n",
       "      <td>16234</td>\n",
       "      <td>Uniondale</td>\n",
       "      <td>Nassau Veterans Memorial Coliseum</td>\n",
       "      <td>0.766856</td>\n",
       "      <td>11553</td>\n",
       "      <td>2019-08-17T04:00:00</td>\n",
       "    </tr>\n",
       "    <tr>\n",
       "      <th>75</th>\n",
       "      <td>2019-02-23T00:00:00</td>\n",
       "      <td>430.0</td>\n",
       "      <td>2019-08-17T19:00:00</td>\n",
       "      <td>Santana with The Doobie Brothers</td>\n",
       "      <td>6353.0</td>\n",
       "      <td>107.0</td>\n",
       "      <td>266.0</td>\n",
       "      <td>Country</td>\n",
       "      <td>The Doobie Brothers</td>\n",
       "      <td>95.0</td>\n",
       "      <td>concert</td>\n",
       "      <td>True</td>\n",
       "      <td>https://seatgeek.com/santana-with-the-doobie-b...</td>\n",
       "      <td>15000</td>\n",
       "      <td>Bethel</td>\n",
       "      <td>Bethel Woods Center for the Arts</td>\n",
       "      <td>0.700694</td>\n",
       "      <td>12720</td>\n",
       "      <td>2019-08-18T03:00:00</td>\n",
       "    </tr>\n",
       "    <tr>\n",
       "      <th>177</th>\n",
       "      <td>2018-11-27T00:00:00</td>\n",
       "      <td>249.0</td>\n",
       "      <td>2019-08-20T19:30:00</td>\n",
       "      <td>KISS</td>\n",
       "      <td>5549.0</td>\n",
       "      <td>54.0</td>\n",
       "      <td>147.0</td>\n",
       "      <td>Pop</td>\n",
       "      <td>KISS</td>\n",
       "      <td>679.0</td>\n",
       "      <td>concert</td>\n",
       "      <td>True</td>\n",
       "      <td>https://seatgeek.com/kiss-tickets/brooklyn-new...</td>\n",
       "      <td>19000</td>\n",
       "      <td>Brooklyn</td>\n",
       "      <td>Barclays Center</td>\n",
       "      <td>0.830777</td>\n",
       "      <td>11217</td>\n",
       "      <td>2019-08-21T03:30:00</td>\n",
       "    </tr>\n",
       "  </tbody>\n",
       "</table>\n",
       "</div>"
      ],
      "text/plain": [
       "           announce_date  average_price      date&time_event  \\\n",
       "30   2019-05-30T00:00:00          294.0  2019-08-16T20:00:00   \n",
       "75   2019-02-23T00:00:00          430.0  2019-08-17T19:00:00   \n",
       "177  2018-11-27T00:00:00          249.0  2019-08-20T19:30:00   \n",
       "\n",
       "                          event_title  highest_price  lowest_price  \\\n",
       "30                               Pink         1889.0          79.0   \n",
       "75   Santana with The Doobie Brothers         6353.0         107.0   \n",
       "177                              KISS         5549.0          54.0   \n",
       "\n",
       "     median_price performer_genre       performer_name  ticket_listing_count  \\\n",
       "30          250.0             Pop                 Pink                 564.0   \n",
       "75          266.0         Country  The Doobie Brothers                  95.0   \n",
       "177         147.0             Pop                 KISS                 679.0   \n",
       "\n",
       "    type_event  upcoming_events?  \\\n",
       "30     concert              True   \n",
       "75     concert              True   \n",
       "177    concert              True   \n",
       "\n",
       "                                                   url  venue_capacity  \\\n",
       "30   https://seatgeek.com/pink-tickets/uniondale-ne...           16234   \n",
       "75   https://seatgeek.com/santana-with-the-doobie-b...           15000   \n",
       "177  https://seatgeek.com/kiss-tickets/brooklyn-new...           19000   \n",
       "\n",
       "    venue_city                         venue_name  venue_score venue_zipcode  \\\n",
       "30   Uniondale  Nassau Veterans Memorial Coliseum     0.766856         11553   \n",
       "75      Bethel   Bethel Woods Center for the Arts     0.700694         12720   \n",
       "177   Brooklyn                    Barclays Center     0.830777         11217   \n",
       "\n",
       "       visible_until_utc  \n",
       "30   2019-08-17T04:00:00  \n",
       "75   2019-08-18T03:00:00  \n",
       "177  2019-08-21T03:30:00  "
      ]
     },
     "execution_count": 6,
     "metadata": {},
     "output_type": "execute_result"
    }
   ],
   "source": [
    "df[df['highest_price'] > 1000].head(3) # first 5"
   ]
  },
  {
   "cell_type": "code",
   "execution_count": 7,
   "metadata": {},
   "outputs": [],
   "source": [
    "# Fill in average and median price with median prices\n",
    "df['average_price'].fillna(df['average_price'].median(), inplace=True)\n",
    "df['median_price'].fillna(df['median_price'].median(), inplace=True)"
   ]
  },
  {
   "cell_type": "markdown",
   "metadata": {},
   "source": [
    "Since I plan on visualizing this data, I'm going to leave highest price and lowest price missing because I want to keep that price as close as possible for people like myself to see the lowest and highest prices as they are."
   ]
  },
  {
   "cell_type": "markdown",
   "metadata": {},
   "source": [
    "<div class=\"alert alert-block alert-info\"> \n",
    "            <b>Fun fact:</b> The highest priced event is listed at $214749. Can you guess what artist? Hint: It's a pop artist. </div>"
   ]
  },
  {
   "cell_type": "markdown",
   "metadata": {},
   "source": [
    "### Unavailable Venue Score"
   ]
  },
  {
   "cell_type": "markdown",
   "metadata": {},
   "source": [
    "After listing out the value_counts for venue_score,  891 have a score of 0. That's about 30% of the data. As per the SeatGeek API documentation, the events \"are based on estimated sales volume on the secondary ticket market (normalized such that the most popular document has a score of 1).\" Since we had a lot of data without ticket prices, as I did with the prices, I'm going to fill them in with the median score."
   ]
  },
  {
   "cell_type": "code",
   "execution_count": 8,
   "metadata": {},
   "outputs": [
    {
     "data": {
      "text/plain": [
       "0.46814686"
      ]
     },
     "execution_count": 8,
     "metadata": {},
     "output_type": "execute_result"
    }
   ],
   "source": [
    "df.venue_score.median()"
   ]
  },
  {
   "cell_type": "code",
   "execution_count": 9,
   "metadata": {},
   "outputs": [],
   "source": [
    "df['venue_score'].replace(0, df.venue_score.median(), inplace=True)"
   ]
  },
  {
   "cell_type": "markdown",
   "metadata": {},
   "source": [
    "It's important to read the documentation when you're getting stuck. Looking at \"to_replace\" parameter let me see what data I could put in there.\n",
    "<https://pandas.pydata.org/pandas-docs/stable/reference/api/pandas.DataFrame.replace.html>"
   ]
  },
  {
   "cell_type": "markdown",
   "metadata": {},
   "source": [
    "### Unavailable Venue Capacity"
   ]
  },
  {
   "cell_type": "markdown",
   "metadata": {},
   "source": [
    "There's 1109 rows without a venue capacity. It could be interesting to see the venue price changes depending on size. Unless I go through the events one by one to find their capacity, I'm not sure how else to find this data(any suggestions would be great!). Perhaps I could build a web scraper that goes on the web and finds it for me. Perhaps for another project. For these reasons, I will leave venue capacity at 0."
   ]
  },
  {
   "cell_type": "markdown",
   "metadata": {},
   "source": [
    "### Missing Venue Zipcode"
   ]
  },
  {
   "cell_type": "code",
   "execution_count": 10,
   "metadata": {
    "scrolled": true
   },
   "outputs": [
    {
     "data": {
      "text/html": [
       "<div>\n",
       "<style scoped>\n",
       "    .dataframe tbody tr th:only-of-type {\n",
       "        vertical-align: middle;\n",
       "    }\n",
       "\n",
       "    .dataframe tbody tr th {\n",
       "        vertical-align: top;\n",
       "    }\n",
       "\n",
       "    .dataframe thead th {\n",
       "        text-align: right;\n",
       "    }\n",
       "</style>\n",
       "<table border=\"1\" class=\"dataframe\">\n",
       "  <thead>\n",
       "    <tr style=\"text-align: right;\">\n",
       "      <th></th>\n",
       "      <th>announce_date</th>\n",
       "      <th>average_price</th>\n",
       "      <th>date&amp;time_event</th>\n",
       "      <th>event_title</th>\n",
       "      <th>highest_price</th>\n",
       "      <th>lowest_price</th>\n",
       "      <th>median_price</th>\n",
       "      <th>performer_genre</th>\n",
       "      <th>performer_name</th>\n",
       "      <th>ticket_listing_count</th>\n",
       "      <th>type_event</th>\n",
       "      <th>upcoming_events?</th>\n",
       "      <th>url</th>\n",
       "      <th>venue_capacity</th>\n",
       "      <th>venue_city</th>\n",
       "      <th>venue_name</th>\n",
       "      <th>venue_score</th>\n",
       "      <th>venue_zipcode</th>\n",
       "      <th>visible_until_utc</th>\n",
       "    </tr>\n",
       "  </thead>\n",
       "  <tbody>\n",
       "    <tr>\n",
       "      <th>72</th>\n",
       "      <td>2019-08-12T00:00:00</td>\n",
       "      <td>118.0</td>\n",
       "      <td>2019-08-17T18:00:00</td>\n",
       "      <td>Bob DiGiovanna</td>\n",
       "      <td>NaN</td>\n",
       "      <td>NaN</td>\n",
       "      <td>98.0</td>\n",
       "      <td>NaN</td>\n",
       "      <td>Bob DiGiovanna</td>\n",
       "      <td>NaN</td>\n",
       "      <td>concert</td>\n",
       "      <td>True</td>\n",
       "      <td>https://seatgeek.com/bob-digiovanna-tickets/ki...</td>\n",
       "      <td>0</td>\n",
       "      <td>Kismet</td>\n",
       "      <td>Surf's Out</td>\n",
       "      <td>0.468147</td>\n",
       "      <td>NaN</td>\n",
       "      <td>2019-08-18T02:00:00</td>\n",
       "    </tr>\n",
       "    <tr>\n",
       "      <th>1649</th>\n",
       "      <td>2019-05-22T00:00:00</td>\n",
       "      <td>118.0</td>\n",
       "      <td>2019-10-11T20:00:00</td>\n",
       "      <td>Ripe with Castlecomer</td>\n",
       "      <td>NaN</td>\n",
       "      <td>NaN</td>\n",
       "      <td>98.0</td>\n",
       "      <td>NaN</td>\n",
       "      <td>Ripe</td>\n",
       "      <td>NaN</td>\n",
       "      <td>concert</td>\n",
       "      <td>True</td>\n",
       "      <td>https://seatgeek.com/ripe-with-castlecomer-tic...</td>\n",
       "      <td>0</td>\n",
       "      <td>Albany</td>\n",
       "      <td>Pearl St Pub</td>\n",
       "      <td>0.468147</td>\n",
       "      <td>NaN</td>\n",
       "      <td>2019-10-12T04:00:00</td>\n",
       "    </tr>\n",
       "    <tr>\n",
       "      <th>1731</th>\n",
       "      <td>2019-04-05T00:00:00</td>\n",
       "      <td>118.0</td>\n",
       "      <td>2019-10-14T19:00:00</td>\n",
       "      <td>The Broadway Musical- The Book Of Mormon</td>\n",
       "      <td>NaN</td>\n",
       "      <td>NaN</td>\n",
       "      <td>98.0</td>\n",
       "      <td>NaN</td>\n",
       "      <td>The Broadway Musical- The Book Of Mormon</td>\n",
       "      <td>NaN</td>\n",
       "      <td>concert</td>\n",
       "      <td>True</td>\n",
       "      <td>https://seatgeek.com/the-broadway-musical-the-...</td>\n",
       "      <td>0</td>\n",
       "      <td>New York</td>\n",
       "      <td>New York 226 W 46th St New York, NY 10036</td>\n",
       "      <td>0.468147</td>\n",
       "      <td>NaN</td>\n",
       "      <td>2019-10-15T03:00:00</td>\n",
       "    </tr>\n",
       "  </tbody>\n",
       "</table>\n",
       "</div>"
      ],
      "text/plain": [
       "            announce_date  average_price      date&time_event  \\\n",
       "72    2019-08-12T00:00:00          118.0  2019-08-17T18:00:00   \n",
       "1649  2019-05-22T00:00:00          118.0  2019-10-11T20:00:00   \n",
       "1731  2019-04-05T00:00:00          118.0  2019-10-14T19:00:00   \n",
       "\n",
       "                                   event_title  highest_price  lowest_price  \\\n",
       "72                             Bob DiGiovanna             NaN           NaN   \n",
       "1649                     Ripe with Castlecomer            NaN           NaN   \n",
       "1731  The Broadway Musical- The Book Of Mormon            NaN           NaN   \n",
       "\n",
       "      median_price performer_genre                            performer_name  \\\n",
       "72            98.0             NaN                            Bob DiGiovanna   \n",
       "1649          98.0             NaN                                      Ripe   \n",
       "1731          98.0             NaN  The Broadway Musical- The Book Of Mormon   \n",
       "\n",
       "      ticket_listing_count type_event  upcoming_events?  \\\n",
       "72                     NaN    concert              True   \n",
       "1649                   NaN    concert              True   \n",
       "1731                   NaN    concert              True   \n",
       "\n",
       "                                                    url  venue_capacity  \\\n",
       "72    https://seatgeek.com/bob-digiovanna-tickets/ki...               0   \n",
       "1649  https://seatgeek.com/ripe-with-castlecomer-tic...               0   \n",
       "1731  https://seatgeek.com/the-broadway-musical-the-...               0   \n",
       "\n",
       "     venue_city                                 venue_name  venue_score  \\\n",
       "72       Kismet                                 Surf's Out     0.468147   \n",
       "1649     Albany                               Pearl St Pub     0.468147   \n",
       "1731   New York  New York 226 W 46th St New York, NY 10036     0.468147   \n",
       "\n",
       "     venue_zipcode    visible_until_utc  \n",
       "72             NaN  2019-08-18T02:00:00  \n",
       "1649           NaN  2019-10-12T04:00:00  \n",
       "1731           NaN  2019-10-15T03:00:00  "
      ]
     },
     "execution_count": 10,
     "metadata": {},
     "output_type": "execute_result"
    }
   ],
   "source": [
    "df[df['venue_zipcode'].isna()]"
   ]
  },
  {
   "cell_type": "markdown",
   "metadata": {},
   "source": [
    "There's only three events so I'm going to go through the venues' url and manually input the zip code. Easy.\n"
   ]
  },
  {
   "cell_type": "code",
   "execution_count": 11,
   "metadata": {},
   "outputs": [],
   "source": [
    "df.loc[df.index == 72, 'venue_zipcode'] = '12207' #googled venue \n",
    "df.loc[df.index == 1649, 'venue_zipcode'] = '07712' #googled city\n",
    "df.loc[df.index == 1731, 'venue_zipcode'] = '10036' # zipcode is in the venue name"
   ]
  },
  {
   "cell_type": "markdown",
   "metadata": {},
   "source": [
    "Actually, I had to look up how to change the value of one row value. Thank you to<br>\n",
    "<https://stackoverflow.com/questions/19226488/change-one-value-based-on-another-value-in-pandas>"
   ]
  },
  {
   "cell_type": "markdown",
   "metadata": {},
   "source": [
    "### Missing Performer Genre"
   ]
  },
  {
   "cell_type": "markdown",
   "metadata": {},
   "source": [
    "I've decided to make missing performer genre into it's own category by replacing it with string 'NaN'. I don't want to run into any errors while modeling. The other option would've been to manually find their genre off their website. That would take too much time for data not necessarily critical to the project."
   ]
  },
  {
   "cell_type": "code",
   "execution_count": 12,
   "metadata": {
    "scrolled": true
   },
   "outputs": [],
   "source": [
    "df.performer_genre.replace(np.NaN, 'NaN', inplace=True) #replace NaN values with string 'NaN'"
   ]
  },
  {
   "cell_type": "markdown",
   "metadata": {},
   "source": [
    "### Missing Ticket Listing Count\n",
    "\n",
    "I'm going to leave this as is because if there's no tickets on sale, I'm not going to change that."
   ]
  },
  {
   "cell_type": "markdown",
   "metadata": {},
   "source": [
    "### Confirm Complete"
   ]
  },
  {
   "cell_type": "code",
   "execution_count": 13,
   "metadata": {},
   "outputs": [],
   "source": [
    "# Highest, lowest price and ticket listing count still have missing values, that's intentional\n",
    "# All other missing data have been handled\n",
    "df.isna().sum()\n",
    "None"
   ]
  },
  {
   "cell_type": "markdown",
   "metadata": {},
   "source": [
    "## DateTime"
   ]
  },
  {
   "cell_type": "markdown",
   "metadata": {},
   "source": [
    "### Convert String Date Columns into DateTime"
   ]
  },
  {
   "cell_type": "markdown",
   "metadata": {},
   "source": [
    "I plan to use the DateTime column to pick and choose what day/time to use. Eventually I want to visualize the events based on time and day. Below I convert any date related columns into DateTime columns."
   ]
  },
  {
   "cell_type": "code",
   "execution_count": 14,
   "metadata": {},
   "outputs": [],
   "source": [
    "# Check current datatype of value date columns\n",
    "type(df['announce_date'][0]) # str data type\n",
    "\n",
    "# `df.columns` to list out all columns to find remaining date columns\n",
    "df.columns\n",
    "date_columns = ['announce_date', 'date&time_event', 'visible_until_utc']\n",
    "\n",
    "# Change all date_columns to datetime format using a loop\n",
    "for i in date_columns:\n",
    "    df[i] = pd.to_datetime(df[i])\n",
    "    \n",
    "type(df['announce_date'][0]) # pandas._libs.tslibs.timestamps.Timestamp\n",
    "None"
   ]
  },
  {
   "cell_type": "markdown",
   "metadata": {},
   "source": [
    "## Drop Any Uneccessary Column"
   ]
  },
  {
   "cell_type": "markdown",
   "metadata": {},
   "source": [
    "I'm going to drop the 'Type_event' column because all the events are concerts."
   ]
  },
  {
   "cell_type": "code",
   "execution_count": 15,
   "metadata": {},
   "outputs": [],
   "source": [
    "df[df['type_event'].str.contains('concert')] \n",
    "df.drop(columns='type_event',inplace=True)"
   ]
  },
  {
   "cell_type": "markdown",
   "metadata": {},
   "source": [
    "##  Final Output"
   ]
  },
  {
   "cell_type": "code",
   "execution_count": 16,
   "metadata": {},
   "outputs": [
    {
     "data": {
      "text/html": [
       "<div>\n",
       "<style scoped>\n",
       "    .dataframe tbody tr th:only-of-type {\n",
       "        vertical-align: middle;\n",
       "    }\n",
       "\n",
       "    .dataframe tbody tr th {\n",
       "        vertical-align: top;\n",
       "    }\n",
       "\n",
       "    .dataframe thead th {\n",
       "        text-align: right;\n",
       "    }\n",
       "</style>\n",
       "<table border=\"1\" class=\"dataframe\">\n",
       "  <thead>\n",
       "    <tr style=\"text-align: right;\">\n",
       "      <th></th>\n",
       "      <th>announce_date</th>\n",
       "      <th>average_price</th>\n",
       "      <th>date&amp;time_event</th>\n",
       "      <th>event_title</th>\n",
       "      <th>highest_price</th>\n",
       "      <th>lowest_price</th>\n",
       "      <th>median_price</th>\n",
       "      <th>performer_genre</th>\n",
       "      <th>performer_name</th>\n",
       "      <th>ticket_listing_count</th>\n",
       "      <th>upcoming_events?</th>\n",
       "      <th>url</th>\n",
       "      <th>venue_capacity</th>\n",
       "      <th>venue_city</th>\n",
       "      <th>venue_name</th>\n",
       "      <th>venue_score</th>\n",
       "      <th>venue_zipcode</th>\n",
       "      <th>visible_until_utc</th>\n",
       "    </tr>\n",
       "  </thead>\n",
       "  <tbody>\n",
       "    <tr>\n",
       "      <th>1905</th>\n",
       "      <td>2019-04-02</td>\n",
       "      <td>378.0</td>\n",
       "      <td>2019-10-22 19:30:00</td>\n",
       "      <td>Ghost with Nothing More</td>\n",
       "      <td>11079.0</td>\n",
       "      <td>23.0</td>\n",
       "      <td>121.0</td>\n",
       "      <td>Pop</td>\n",
       "      <td>Ghost</td>\n",
       "      <td>180.0</td>\n",
       "      <td>True</td>\n",
       "      <td>https://seatgeek.com/ghost-with-nothing-more-t...</td>\n",
       "      <td>8000</td>\n",
       "      <td>Syracuse</td>\n",
       "      <td>War Memorial At OnCenter</td>\n",
       "      <td>0.579858</td>\n",
       "      <td>13202</td>\n",
       "      <td>2019-10-23 03:30:00</td>\n",
       "    </tr>\n",
       "    <tr>\n",
       "      <th>657</th>\n",
       "      <td>2019-04-04</td>\n",
       "      <td>67.0</td>\n",
       "      <td>2019-09-06 20:00:00</td>\n",
       "      <td>Blackberry Smoke with Simo (21+)</td>\n",
       "      <td>106.0</td>\n",
       "      <td>53.0</td>\n",
       "      <td>64.0</td>\n",
       "      <td>Country</td>\n",
       "      <td>Blackberry Smoke</td>\n",
       "      <td>25.0</td>\n",
       "      <td>True</td>\n",
       "      <td>https://seatgeek.com/blackberry-smoke-with-sim...</td>\n",
       "      <td>600</td>\n",
       "      <td>Brooklyn</td>\n",
       "      <td>Brooklyn Bowl</td>\n",
       "      <td>0.527452</td>\n",
       "      <td>11201</td>\n",
       "      <td>2019-09-07 04:00:00</td>\n",
       "    </tr>\n",
       "    <tr>\n",
       "      <th>1903</th>\n",
       "      <td>2019-06-03</td>\n",
       "      <td>176.0</td>\n",
       "      <td>2019-10-22 19:00:00</td>\n",
       "      <td>The California Honeydrops</td>\n",
       "      <td>387.0</td>\n",
       "      <td>49.0</td>\n",
       "      <td>156.0</td>\n",
       "      <td>Blues</td>\n",
       "      <td>The California Honeydrops</td>\n",
       "      <td>12.0</td>\n",
       "      <td>True</td>\n",
       "      <td>https://seatgeek.com/the-california-honeydrops...</td>\n",
       "      <td>200</td>\n",
       "      <td>Pawling</td>\n",
       "      <td>Daryl's House</td>\n",
       "      <td>0.448582</td>\n",
       "      <td>12564</td>\n",
       "      <td>2019-10-23 03:00:00</td>\n",
       "    </tr>\n",
       "  </tbody>\n",
       "</table>\n",
       "</div>"
      ],
      "text/plain": [
       "     announce_date  average_price     date&time_event  \\\n",
       "1905    2019-04-02          378.0 2019-10-22 19:30:00   \n",
       "657     2019-04-04           67.0 2019-09-06 20:00:00   \n",
       "1903    2019-06-03          176.0 2019-10-22 19:00:00   \n",
       "\n",
       "                           event_title  highest_price  lowest_price  \\\n",
       "1905           Ghost with Nothing More        11079.0          23.0   \n",
       "657   Blackberry Smoke with Simo (21+)          106.0          53.0   \n",
       "1903         The California Honeydrops          387.0          49.0   \n",
       "\n",
       "      median_price performer_genre             performer_name  \\\n",
       "1905         121.0             Pop                      Ghost   \n",
       "657           64.0         Country           Blackberry Smoke   \n",
       "1903         156.0           Blues  The California Honeydrops   \n",
       "\n",
       "      ticket_listing_count  upcoming_events?  \\\n",
       "1905                 180.0              True   \n",
       "657                   25.0              True   \n",
       "1903                  12.0              True   \n",
       "\n",
       "                                                    url  venue_capacity  \\\n",
       "1905  https://seatgeek.com/ghost-with-nothing-more-t...            8000   \n",
       "657   https://seatgeek.com/blackberry-smoke-with-sim...             600   \n",
       "1903  https://seatgeek.com/the-california-honeydrops...             200   \n",
       "\n",
       "     venue_city                venue_name  venue_score venue_zipcode  \\\n",
       "1905   Syracuse  War Memorial At OnCenter     0.579858         13202   \n",
       "657    Brooklyn             Brooklyn Bowl     0.527452         11201   \n",
       "1903    Pawling             Daryl's House     0.448582         12564   \n",
       "\n",
       "       visible_until_utc  \n",
       "1905 2019-10-23 03:30:00  \n",
       "657  2019-09-07 04:00:00  \n",
       "1903 2019-10-23 03:00:00  "
      ]
     },
     "execution_count": 16,
     "metadata": {},
     "output_type": "execute_result"
    }
   ],
   "source": [
    "df.sample(3)"
   ]
  },
  {
   "cell_type": "markdown",
   "metadata": {},
   "source": [
    "## Conclusion\n",
    "\n",
    "In this project, we used our ny-concert data from SeatGeek. We took stock of missing data and decided how we were going to deal with NaN prices and 0 value columns. We went through pricing and replaced the missing average and median prices with the median price of each respective column. We decided to leave the highest and lowest price columns as is because there were really no tickets available for those events. Because the venue_score was linked to ticket sales, I replaced the 0 value venue_scores with the median score in congruence with what we did with the ticket prices. I left venue_capacity as is as I did not have an optimal way of handling it. I also left ticket listing count at missing because there were no tickets on sale for those events. I handled missing zipcodes by googling them, easily because there were only 3. Then I made missing performer_genres in to its own category. I converted the string date columns into datetime. Finally we dropped a redundant column as all events were concerts.\n",
    "\n",
    "It was tricky deciding what to do with missing values. At the back of my mind, it always occurred to me whether we put something there or not, the value is not 100% true. I think this is a limitation that I wonder if someone could tell me what would be the best way to handle a certain NaN value. Nonetheless, I tried to justify my reasoning for dealing with those values. In the future, I would like to use the datetime to get a look at what events occur during what time of the day. \n",
    "\n",
    "Happy to get feedback on my project. Thank you.\n",
    "\n",
    "<div class=\"alert alert-block alert-success\"> The answer to the fun fact is Hozier. The average price for one of his tickets was $34003! </div>"
   ]
  },
  {
   "cell_type": "code",
   "execution_count": null,
   "metadata": {},
   "outputs": [],
   "source": []
  }
 ],
 "metadata": {
  "kernelspec": {
   "display_name": "Python 3",
   "language": "python",
   "name": "python3"
  },
  "language_info": {
   "codemirror_mode": {
    "name": "ipython",
    "version": 3
   },
   "file_extension": ".py",
   "mimetype": "text/x-python",
   "name": "python",
   "nbconvert_exporter": "python",
   "pygments_lexer": "ipython3",
   "version": "3.6.7"
  }
 },
 "nbformat": 4,
 "nbformat_minor": 2
}
